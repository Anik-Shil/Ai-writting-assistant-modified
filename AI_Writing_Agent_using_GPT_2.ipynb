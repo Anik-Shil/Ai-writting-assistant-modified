{
  "nbformat": 4,
  "nbformat_minor": 0,
  "metadata": {
    "colab": {
      "provenance": [],
      "gpuType": "T4"
    },
    "kernelspec": {
      "name": "python3",
      "display_name": "Python 3"
    },
    "language_info": {
      "name": "python"
    },
    "accelerator": "GPU"
  },
  "cells": [
    {
      "cell_type": "code",
      "execution_count": 18,
      "metadata": {
        "colab": {
          "base_uri": "https://localhost:8080/"
        },
        "id": "hIwD_HiDjCy0",
        "outputId": "2a0da05e-0c79-44f4-a911-915d7e665fed"
      },
      "outputs": [
        {
          "output_type": "stream",
          "name": "stderr",
          "text": [
            "Device set to use cpu\n",
            "Setting `pad_token_id` to `eos_token_id`:50256 for open-end generation.\n"
          ]
        },
        {
          "output_type": "stream",
          "name": "stdout",
          "text": [
            "🤖 Final Response:\n",
            " \n",
            "You are an intelligent AI Writing Assistant.\n",
            "\n",
            "User Question: What is a hook in writing and check the sentence 'I has a dream that ain't bad.'\n",
            "\n",
            "Writing Knowledge Base Info:\n",
            "Hook: A hook is the opening sentence of an essay meant to grab the reader's attention.\n",
            "\n",
            "Grammar Feedback:\n",
            "Consider replacing 'ain't' with 'is not' or 'are not'.\n",
            "Use 'I have' instead of 'I has'.\n",
            "\n",
            "Based on the above, generate a helpful and concise response to assist the user.\n",
            "\n",
            "Note: As part of your writing development process, make sure you are using correct grammar.\n",
            "\n",
            "The hook is a very useful tool for writing a good story. It allows you to create a concise and concise sentence that conveys a clear message about your subject matter.\n",
            "\n",
            "I have a dream that ain't bad. I have a dream that ain't bad and I don't want to die. I have a dream that is not bad. I have a dream that ain't bad and I don't want to die. I have a dream that is not bad and I don't want to die. I have a dream that is not bad and I don't want to die. I have a dream that is not bad and I don\n"
          ]
        }
      ],
      "source": [
        "# Install required libraries\n",
        "!pip install langchain transformers torch --quiet\n",
        "\n",
        "from langchain.llms import HuggingFacePipeline\n",
        "from langchain.prompts import PromptTemplate\n",
        "from transformers import pipeline, AutoTokenizer, AutoModelForCausalLM\n",
        "\n",
        "# Load lightweight model\n",
        "model_id = \"gpt2\"\n",
        "tokenizer = AutoTokenizer.from_pretrained(model_id)\n",
        "model = AutoModelForCausalLM.from_pretrained(model_id)\n",
        "\n",
        "text_gen = pipeline(\"text-generation\", model=model, tokenizer=tokenizer, max_new_tokens=150, temperature=0.7)\n",
        "\n",
        "llm = HuggingFacePipeline(pipeline=text_gen)\n",
        "\n",
        "# ✅ Dummy knowledge base\n",
        "knowledge_base = {\n",
        "    \"hook\": \"A hook is the opening sentence of an essay meant to grab the reader's attention.\",\n",
        "    \"thesis\": \"A thesis statement clearly presents the main idea of your essay in one or two sentences.\",\n",
        "    \"conclusion\": \"A strong conclusion summarizes your argument and provides closure to your essay.\",\n",
        "    \"transition\": \"Transition words help to smoothly connect ideas between sentences and paragraphs.\",\n",
        "    \"passive voice\": \"Passive voice makes sentences less direct. Use active voice for clarity.\"\n",
        "}\n",
        "\n",
        "# ✅ Tool 1: Writing Knowledge Tool\n",
        "def writing_knowledge_tool(query: str) -> str:\n",
        "    for key, value in knowledge_base.items():\n",
        "        if key in query.lower():\n",
        "            return f\"{key.title()}: {value}\"\n",
        "    return \"No relevant writing tip found in the knowledge base.\"\n",
        "\n",
        "# ✅ Tool 2: Grammar Check Tool\n",
        "def grammar_check_tool(text: str) -> str:\n",
        "    suggestions = []\n",
        "    if \"ain't\" in text:\n",
        "        suggestions.append(\"Consider replacing 'ain't' with 'is not' or 'are not'.\")\n",
        "    if \"I has\" in text:\n",
        "        suggestions.append(\"Use 'I have' instead of 'I has'.\")\n",
        "    return \"\\n\".join(suggestions) if suggestions else \"No major grammar issues detected.\"\n",
        "\n",
        "# ✅ Example user input\n",
        "user_question = \"What is a hook in writing and check the sentence 'I has a dream that ain't bad.'\"\n",
        "\n",
        "# Run tools manually\n",
        "knowledge_response = writing_knowledge_tool(user_question)\n",
        "grammar_feedback = grammar_check_tool(user_question)\n",
        "\n",
        "# Prompt Template\n",
        "template = PromptTemplate(\n",
        "    input_variables=[\"question\", \"knowledge\", \"grammar\"],\n",
        "    template=\"\"\"\n",
        "You are an intelligent AI Writing Assistant.\n",
        "\n",
        "User Question: {question}\n",
        "\n",
        "Writing Knowledge Base Info:\n",
        "{knowledge}\n",
        "\n",
        "Grammar Feedback:\n",
        "{grammar}\n",
        "\n",
        "Based on the above, generate a helpful and concise response to assist the user.\n",
        "\"\"\"\n",
        ")\n",
        "\n",
        "final_prompt = template.format(\n",
        "    question=user_question,\n",
        "    knowledge=knowledge_response,\n",
        "    grammar=grammar_feedback\n",
        ")\n",
        "\n",
        "# ✅ Generate Response\n",
        "response = llm.invoke(final_prompt)\n",
        "print(\"🤖 Final Response:\\n\", response)\n"
      ]
    }
  ]
}